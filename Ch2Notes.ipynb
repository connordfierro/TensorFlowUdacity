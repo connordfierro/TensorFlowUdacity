{
  "nbformat": 4,
  "nbformat_minor": 0,
  "metadata": {
    "colab": {
      "name": "Ch2Notes.ipynb",
      "provenance": [],
      "authorship_tag": "ABX9TyMDWptQFxNT86LIlNfxF0GH",
      "include_colab_link": true
    },
    "kernelspec": {
      "name": "python3",
      "display_name": "Python 3"
    },
    "language_info": {
      "name": "python"
    }
  },
  "cells": [
    {
      "cell_type": "markdown",
      "metadata": {
        "id": "view-in-github",
        "colab_type": "text"
      },
      "source": [
        "<a href=\"https://colab.research.google.com/github/connordfierro/TensorFlowUdacity/blob/main/Ch2Notes.ipynb\" target=\"_parent\"><img src=\"https://colab.research.google.com/assets/colab-badge.svg\" alt=\"Open In Colab\"/></a>"
      ]
    },
    {
      "cell_type": "code",
      "execution_count": null,
      "metadata": {
        "id": "xAWsyXPDizpg"
      },
      "outputs": [],
      "source": [
        "#from ch2 of Deep Learning w/ Python (Francois Chollet)\n",
        "#write a naive python implementation of elementwise operation\n",
        "#for loop elementwise relu"
      ]
    },
    {
      "cell_type": "code",
      "source": [
        "def naive_relu(x):\n",
        "  assertlen(x.shape) == 2\n",
        "\n",
        "  x = x.copy[]\n",
        "  for i in range(x.shape[0]):\n",
        "    for j in range(x.shape[1]):\n",
        "      x[i,j] = max[x[i,j], 0]\n",
        "  return x\n",
        "  "
      ],
      "metadata": {
        "id": "PmY7Jqcdjodw"
      },
      "execution_count": null,
      "outputs": []
    },
    {
      "cell_type": "code",
      "source": [
        "#You do the same for addition:\n",
        "def naive_add(x, y):\n",
        "    assert len(x.shape) == 2\n",
        "    assert x.shape == y.shape #x/y = 2d Numpy tensor objects\n",
        "\n",
        "    x = x.copy() #avoid overwriting the input tensor\n",
        "    for i in range(x.shape[0]):\n",
        "        for j in range(x.shape[1]):\n",
        "            x[i, j] += y[i, j]\n",
        "return x\n",
        "\n",
        "#sampe principles apply to subtraction, multiplicaiton, etc."
      ],
      "metadata": {
        "id": "rlUr5Kn9kJdv"
      },
      "execution_count": null,
      "outputs": []
    },
    {
      "cell_type": "code",
      "source": [
        "#BLAS algorithm (in Fortran/C) that is paralell thus superfast\n",
        "import numpy as np\n",
        "z=x+y\n",
        "z = np.maximum(z, 0.)\n"
      ],
      "metadata": {
        "id": "P1x7VyeJkrKC"
      },
      "execution_count": null,
      "outputs": []
    },
    {
      "cell_type": "code",
      "source": [
        "#2d tensor addition\n",
        "def naive_add_matrix_and_vector(x, y):\n",
        "    assert len(x.shape) == 2\n",
        "    assert len(y.shape) == 1\n",
        "    assert x.shape[1] == y.shape[0]\n",
        "    x = x.copy()\n",
        "    for i in range(x.shape[0]):\n",
        "        for j in range(x.shape[1]):\n",
        "            x[i, j] += y[j]\n",
        "return x"
      ],
      "metadata": {
        "id": "P_udyeTblTos"
      },
      "execution_count": null,
      "outputs": []
    },
    {
      "cell_type": "code",
      "source": [
        "#The following example applies the element-wise maximum operation to two tensors of different shapes via broadcasting:\n",
        "import numpy as np\n",
        "x = np.random.random((64, 3, 32, 10))\n",
        "y = np.random.random((32, 10))\n",
        "z = np.maximum(x, y)\n",
        "#output similar to (larger) x input"
      ],
      "metadata": {
        "id": "Knt9FpNoljN0"
      },
      "execution_count": null,
      "outputs": []
    },
    {
      "cell_type": "code",
      "source": [
        "#Dot Product:\n",
        "#x and y are Numpy vectors.\n",
        "def naive_vector_dot(x, y):\n",
        "    assert len(x.shape) == 1\n",
        "    assert len(y.shape) == 1\n",
        "    assert x.shape[0] == y.shape[0]\n",
        "#x and y are Numpy matrices.\n",
        "def naive_matrix_dot(x, y):\n",
        "    assert len(x.shape) == 2\n",
        "    assert len(y.shape) == 2\n",
        "    assert x.shape[1] == y.shape[0]\n",
        "    z = np.zeros((x.shape[0], y.shape[1]))\n",
        "    for i in range(x.shape[0]):\n",
        "        for j in range(y.shape[1]):\n",
        "            row_x = x[i, :]\n",
        "The first dimension of x must be the same as the 0th dimension of y!\n",
        "This operation returns a matrix of 0s with a specific shape.\n",
        "Iterates over the rows of x ... ... and over the columns of y.\n",
        "The gears of neural networks: tensor operations 41\n",
        "    z = 0.\n",
        "    for i in range(x.shape[0]):\n",
        "        z += x[i] * y[i]\n",
        "    return z"
      ],
      "metadata": {
        "id": "Gk7rZe6ll0TC"
      },
      "execution_count": null,
      "outputs": []
    },
    {
      "cell_type": "code",
      "source": [
        "#gradient-based optimizaiton core:\n",
        "output = relu(dot(W, input) + b)\n"
      ],
      "metadata": {
        "id": "GdPXbJgzpiNj"
      },
      "execution_count": null,
      "outputs": []
    }
  ]
}