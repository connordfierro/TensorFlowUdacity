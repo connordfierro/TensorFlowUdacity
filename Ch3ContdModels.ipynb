{
  "nbformat": 4,
  "nbformat_minor": 0,
  "metadata": {
    "colab": {
      "name": "Ch3ContdModels.ipynb",
      "provenance": [],
      "authorship_tag": "ABX9TyM2Ra++agt9n5/2d7KslOvz",
      "include_colab_link": true
    },
    "kernelspec": {
      "name": "python3",
      "display_name": "Python 3"
    },
    "language_info": {
      "name": "python"
    },
    "accelerator": "GPU",
    "gpuClass": "standard"
  },
  "cells": [
    {
      "cell_type": "markdown",
      "metadata": {
        "id": "view-in-github",
        "colab_type": "text"
      },
      "source": [
        "<a href=\"https://colab.research.google.com/github/connordfierro/TensorFlowUdacity/blob/main/Ch3ContdModels.ipynb\" target=\"_parent\"><img src=\"https://colab.research.google.com/assets/colab-badge.svg\" alt=\"Open In Colab\"/></a>"
      ]
    },
    {
      "cell_type": "code",
      "execution_count": null,
      "metadata": {
        "id": "PJISVn1cG_mj"
      },
      "outputs": [],
      "source": [
        "#from ch3 of Deep Learning w/ Python (Francois Chollet)\n"
      ]
    },
    {
      "cell_type": "code",
      "source": [
        "#Classifying Movie Reviews (Binary Classification)\n",
        "#IMDB Dataset: 50k reviews(50/50 +/-), 25k train/25k test split"
      ],
      "metadata": {
        "id": "-zph6OsyHHcV"
      },
      "execution_count": null,
      "outputs": []
    },
    {
      "cell_type": "code",
      "source": [
        "#For kicks, here’s how you can quickly decode one of these reviews back to English words:\n",
        "word_index = imdb.get_word_index()\n",
        "reverse_word_index = dict(\n",
        "#word_index is a dictionary mapping words to an integer index.\n",
        "    [(value, key) for (key, value) in word_index.items()])\n",
        "decoded_review = ' '.join(\n",
        "    [reverse_word_index.get(i - 3, '?') for i in train_data[0]])"
      ],
      "metadata": {
        "colab": {
          "base_uri": "https://localhost:8080/",
          "height": 130
        },
        "id": "A4JSxbskJfrJ",
        "outputId": "9ba1cc28-1c7b-4112-ce93-386c01e138fe"
      },
      "execution_count": 1,
      "outputs": [
        {
          "output_type": "error",
          "ename": "SyntaxError",
          "evalue": "ignored",
          "traceback": [
            "\u001b[0;36m  File \u001b[0;32m\"<ipython-input-1-78df18ad0bb4>\"\u001b[0;36m, line \u001b[0;32m4\u001b[0m\n\u001b[0;31m    word_index is a dictionary mapping words to an integer index.\u001b[0m\n\u001b[0m                             ^\u001b[0m\n\u001b[0;31mSyntaxError\u001b[0m\u001b[0;31m:\u001b[0m invalid syntax\n"
          ]
        }
      ]
    },
    {
      "cell_type": "code",
      "source": [
        "from keras import layers, models\n",
        "from keras.datasets import imdb\n",
        "(train_data, train_labels), (test_data, test_labels) = imdb.load_data(num_words=10000)\n",
        "#(train/test)_(data/labels) can also be called (train/test)_(X/Y)\n",
        "#num_words=10000 keeps 10k most frequently used words, discards rare ones\n",
        "#in train/test_labels;0 = negative, 1 = positive\n"
      ],
      "metadata": {
        "colab": {
          "base_uri": "https://localhost:8080/"
        },
        "id": "MRdQDskBHLj1",
        "outputId": "820a7317-8ebe-4f2f-e75b-bb3789e76d87"
      },
      "execution_count": 2,
      "outputs": [
        {
          "output_type": "stream",
          "name": "stdout",
          "text": [
            "Downloading data from https://storage.googleapis.com/tensorflow/tf-keras-datasets/imdb.npz\n",
            "17465344/17464789 [==============================] - 0s 0us/step\n",
            "17473536/17464789 [==============================] - 0s 0us/step\n"
          ]
        }
      ]
    },
    {
      "cell_type": "code",
      "source": [
        "#Next Step: turn lists into tensors\n",
        "#can pad lists to same length, turn into int tensor(sample, word_index) -> Embedding Layer\n",
        "#OR turn lists into 0/1s (One-hot encode) [ex 3,5 is 10k-D vector w/ 3/5 index of 1]\n",
        "  #Then use Dense layer to handle float vector data\n",
        "import numpy as np\n",
        "\n",
        "def vectorize_sequences(sequences, dimension = 10000):\n",
        "  results=np.zeros((len(sequences), dimension))\n",
        "  for i, sequence in enumerate(sequences):\n",
        "    results[i, sequence] = 1.0\n",
        "  return results\n",
        "\n",
        "x_train = vectorize_sequences(train_data)\n",
        "x_test = vectorize_sequences(test_data)\n",
        "\n",
        "y_train = np.asarray(train_labels).astype(np.float32)\n",
        "y_test = np.asarray(test_labels).astype(np.float32)\n",
        "#Now the data is ready to be inputted to a neural network\n"
      ],
      "metadata": {
        "id": "FYCMW876JmS0"
      },
      "execution_count": 4,
      "outputs": []
    },
    {
      "cell_type": "code",
      "source": [
        "#3.4.3: Building the Network\n",
        "#input: vector; output: scalar(1/0)\n",
        "from keras import layers, models\n",
        "model = models.Sequential()\n",
        "model.add(layers.Dense(16, activation='relu', input_shape=(10000,))) #input_shape must be tuple (https://stackoverflow.com/questions/58635521/tensorflow-typeerror-int-object-is-not-iterable)\n",
        "model.add(layers.Dense(16, activation='relu'))\n",
        "model.add(layers.Dense(1, activation='sigmoid'))\n",
        "#You may remember from chapter 2 that each such Dense layer with a relu activation implements the following chain of tensor operations:\n",
        "  #output = relu(dot(W, input) + b); W has shape(input_dimension, 16)\n",
        "  #dot product projects input data to 16-D space, add bias vector(b), apply relu\n",
        "#You can intuitively understand the dimensionality of your representation space as\n",
        "#how much freedom you’re allowing the network to have when learning internal representations.\n",
        "# Having more hidden units (a higher-dimensional representation space) allows\n",
        "# your network to learn more-complex representations, but it makes the network \n",
        "#more computationally expensive and may lead to learning unwanted patterns (memorization)\n",
        "\n",
        "#Two KEY DECISIONS about Dense Layer Stacks: \n",
        "  #The NUMBER of LAYERS, and the HIDDEN UNITS (neurons) for each LAYER.\n",
        "#In this network, intermediate layers use RELU; final layer uses SIGMOID(1 unit)\n",
        "\n",
        "#Activation functions are necessary to learn non-linear transformations.\n",
        "#Without an AF, the output is linear(see output dot above)\n",
        "#Using AFs massively increases HYPOTHESIS SPACE (as opposed to 16D linear(?) space)\n"
      ],
      "metadata": {
        "id": "ICuNMYXrLL0Q"
      },
      "execution_count": 10,
      "outputs": []
    },
    {
      "cell_type": "code",
      "source": [
        "#Choosing an Optimizer\n",
        "  #For binary classification (and probability output), use binary_crossentropy\n",
        "  #means_squared_error could also tecnhically be used, but b_c is typically best\n",
        "#rossentropy is a quantity from the field of Infor- mation Theory that measures\n",
        "#the distance between probability distributions or, in this case, between the ground-truth distribution and your predictions.\n",
        "#using rmsprop optimizer (accuracy monitored during training too)\n",
        "model.compile(optimizer='rmsprop', loss='binary_crossentropy', metrics=['accuracy'])\n",
        "#parameters are passed as strings since they are part of Keras package\n"
      ],
      "metadata": {
        "id": "uaBsETq8OX6Q"
      },
      "execution_count": null,
      "outputs": []
    },
    {
      "cell_type": "code",
      "source": [
        "#custom losses/metrics using keras libraries\n",
        "import tensorflow as tf #fix to make RMSprop work (added tf.keras, imported optimizers too)\n",
        "from keras import losses, metrics, optimizers\n",
        "model.compile(optimizer=tf.keras.optimizers.RMSprop(lr=.001), #lr=learning rate(?)\n",
        "              loss=losses.binary_crossentropy,\n",
        "              metrics=[metrics.binary_accuracy])"
      ],
      "metadata": {
        "colab": {
          "base_uri": "https://localhost:8080/"
        },
        "id": "2psAt-X2P3HB",
        "outputId": "0cc07b1e-8528-49c0-a3ab-68b7321d5ce5"
      },
      "execution_count": 16,
      "outputs": [
        {
          "output_type": "stream",
          "name": "stderr",
          "text": [
            "/usr/local/lib/python3.7/dist-packages/keras/optimizer_v2/rmsprop.py:130: UserWarning: The `lr` argument is deprecated, use `learning_rate` instead.\n",
            "  super(RMSprop, self).__init__(name, **kwargs)\n"
          ]
        }
      ]
    },
    {
      "cell_type": "code",
      "source": [
        "#Validation: set 10k samples apart from original training data\n",
        "x_val = x_train[:10000]\n",
        "partial_x_train = x_train[10000:]\n",
        "y_val = y_train[:10000]\n",
        "partial_y_train = y_train[10000:]\n",
        "#train model for 20 epochs (full iteration over all samples)\n",
        "#in mini-batches of 512 samples, while monitoring loss/accuracy on 10k set apart\n",
        "model.compile(optimizer='rmsprop',\n",
        "              loss='binary_crossentropy', \n",
        "              metrics=['acc'])\n",
        "\n",
        "history = model.fit(partial_x_train,\n",
        "                    partial_y_train,\n",
        "                    epochs = 20, \n",
        "                    batch_size=512,\n",
        "                    validation_data=(x_val, y_val))\n"
      ],
      "metadata": {
        "colab": {
          "base_uri": "https://localhost:8080/"
        },
        "id": "GJ-JgbUgQUgi",
        "outputId": "51a6f264-c81d-46bb-f598-464f56050457"
      },
      "execution_count": 17,
      "outputs": [
        {
          "output_type": "stream",
          "name": "stdout",
          "text": [
            "Epoch 1/20\n",
            "30/30 [==============================] - 6s 40ms/step - loss: 0.5060 - acc: 0.7877 - val_loss: 0.3760 - val_acc: 0.8749\n",
            "Epoch 2/20\n",
            "30/30 [==============================] - 1s 21ms/step - loss: 0.2977 - acc: 0.9053 - val_loss: 0.3067 - val_acc: 0.8843\n",
            "Epoch 3/20\n",
            "30/30 [==============================] - 1s 20ms/step - loss: 0.2187 - acc: 0.9295 - val_loss: 0.2858 - val_acc: 0.8859\n",
            "Epoch 4/20\n",
            "30/30 [==============================] - 1s 20ms/step - loss: 0.1723 - acc: 0.9441 - val_loss: 0.2758 - val_acc: 0.8901\n",
            "Epoch 5/20\n",
            "30/30 [==============================] - 1s 22ms/step - loss: 0.1402 - acc: 0.9552 - val_loss: 0.2972 - val_acc: 0.8808\n",
            "Epoch 6/20\n",
            "30/30 [==============================] - 1s 21ms/step - loss: 0.1173 - acc: 0.9630 - val_loss: 0.2956 - val_acc: 0.8873\n",
            "Epoch 7/20\n",
            "30/30 [==============================] - 1s 20ms/step - loss: 0.0983 - acc: 0.9711 - val_loss: 0.3146 - val_acc: 0.8832\n",
            "Epoch 8/20\n",
            "30/30 [==============================] - 1s 20ms/step - loss: 0.0788 - acc: 0.9774 - val_loss: 0.3628 - val_acc: 0.8747\n",
            "Epoch 9/20\n",
            "30/30 [==============================] - 1s 20ms/step - loss: 0.0688 - acc: 0.9809 - val_loss: 0.3609 - val_acc: 0.8767\n",
            "Epoch 10/20\n",
            "30/30 [==============================] - 1s 20ms/step - loss: 0.0569 - acc: 0.9844 - val_loss: 0.3849 - val_acc: 0.8777\n",
            "Epoch 11/20\n",
            "30/30 [==============================] - 1s 20ms/step - loss: 0.0446 - acc: 0.9895 - val_loss: 0.4131 - val_acc: 0.8758\n",
            "Epoch 12/20\n",
            "30/30 [==============================] - 1s 20ms/step - loss: 0.0377 - acc: 0.9910 - val_loss: 0.4515 - val_acc: 0.8745\n",
            "Epoch 13/20\n",
            "30/30 [==============================] - 1s 21ms/step - loss: 0.0312 - acc: 0.9937 - val_loss: 0.4804 - val_acc: 0.8699\n",
            "Epoch 14/20\n",
            "30/30 [==============================] - 1s 21ms/step - loss: 0.0249 - acc: 0.9954 - val_loss: 0.5138 - val_acc: 0.8707\n",
            "Epoch 15/20\n",
            "30/30 [==============================] - 1s 20ms/step - loss: 0.0210 - acc: 0.9959 - val_loss: 0.5483 - val_acc: 0.8701\n",
            "Epoch 16/20\n",
            "30/30 [==============================] - 1s 21ms/step - loss: 0.0153 - acc: 0.9983 - val_loss: 0.5828 - val_acc: 0.8682\n",
            "Epoch 17/20\n",
            "30/30 [==============================] - 1s 20ms/step - loss: 0.0119 - acc: 0.9987 - val_loss: 0.6215 - val_acc: 0.8649\n",
            "Epoch 18/20\n",
            "30/30 [==============================] - 1s 21ms/step - loss: 0.0112 - acc: 0.9979 - val_loss: 0.6598 - val_acc: 0.8673\n",
            "Epoch 19/20\n",
            "30/30 [==============================] - 1s 21ms/step - loss: 0.0059 - acc: 0.9997 - val_loss: 0.7540 - val_acc: 0.8588\n",
            "Epoch 20/20\n",
            "30/30 [==============================] - 1s 20ms/step - loss: 0.0095 - acc: 0.9985 - val_loss: 0.7249 - val_acc: 0.8659\n"
          ]
        },
        {
          "output_type": "execute_result",
          "data": {
            "text/plain": [
              "<keras.callbacks.History at 0x7ffa310954d0>"
            ]
          },
          "metadata": {},
          "execution_count": 17
        }
      ]
    },
    {
      "cell_type": "code",
      "source": [
        "history_dict = history.history\n",
        "history_dict.keys()\n",
        "#Keys are metrics monitored during training/validation\n",
        "#measured loss, accuracy, validation loss, and validation accuracy??"
      ],
      "metadata": {
        "colab": {
          "base_uri": "https://localhost:8080/"
        },
        "id": "QQJhRmBHX800",
        "outputId": "9e01c7ed-f4cc-49d5-c2fc-70bae54b1064"
      },
      "execution_count": 18,
      "outputs": [
        {
          "output_type": "execute_result",
          "data": {
            "text/plain": [
              "dict_keys(['loss', 'acc', 'val_loss', 'val_acc'])"
            ]
          },
          "metadata": {},
          "execution_count": 18
        }
      ]
    },
    {
      "cell_type": "code",
      "source": [
        "#Using Mpl to plot training/validation loss + accuracy\n",
        "import matplotlib.pyplot as plt\n",
        "\n",
        "loss_values = history_dict['loss']#Training\n",
        "val_loss_values = history_dict['val_loss']#Test(?)\n",
        "\n",
        "epochs = range(1, len(history_dict['acc']) + 1)\n",
        "\n",
        "plt.plot(epochs, loss_values, 'bo', label = 'Training loss')#bo = blue dot\n",
        "plt.plot(epochs, val_loss_values, 'b', label='Validation loss')#b=blue line\n",
        "plt.title('(Training & Validation) Loss Values(%)') #is this actually percent?\n",
        "plt.xlabel('Epochs')\n",
        "plt.ylabel('Loss')\n",
        "plt.legend()\n",
        "\n",
        "plt.show()"
      ],
      "metadata": {
        "colab": {
          "base_uri": "https://localhost:8080/",
          "height": 295
        },
        "id": "H_3d90DHYYB0",
        "outputId": "09a2f0b2-0240-4aab-c4f6-83745e19c535"
      },
      "execution_count": 22,
      "outputs": [
        {
          "output_type": "display_data",
          "data": {
            "text/plain": [
              "<Figure size 432x288 with 1 Axes>"
            ],
            "image/png": "[encoded data removed]"
          },
          "metadata": {
            "needs_background": "light"
          }
        }
      ]
    },
    {
      "cell_type": "code",
      "source": [
        "#Using mpl to plot training/validation Accuracy\n",
        "\n",
        "plt.clf()\n",
        "acc_values = history_dict['acc']#Training\n",
        "val_acc_values = history_dict['val_acc']#Test(?)\n",
        "\n",
        "plt.plot(epochs, acc_values, 'bo', label='Training Accuracy')\n",
        "plt.plot(epochs, val_acc_values, 'b', label='Validation Accuracy')\n",
        "plt.title('Training/Validation Accuracy (%)') #is this actually percent?\n",
        "plt.legend()\n",
        "\n",
        "plt.show()\n",
        "\n"
      ],
      "metadata": {
        "colab": {
          "base_uri": "https://localhost:8080/",
          "height": 281
        },
        "id": "4A6lNWGjZsyI",
        "outputId": "4270678b-3d64-485f-fb00-dd80daf0a313"
      },
      "execution_count": 24,
      "outputs": [
        {
          "output_type": "display_data",
          "data": {
            "text/plain": [
              "<Figure size 432x288 with 1 Axes>"
            ],
            "image/png": "[encoded data removed]"
          },
          "metadata": {
            "needs_background": "light"
          }
        }
      ]
    },
    {
      "cell_type": "code",
      "source": [
        "#These Graphs indicate OVERFITTING: After epoch 2, model overoptimized on training data\n",
        "#Here we are retraining the model then using test data to evaluate diff schema\n",
        "\n",
        "#!!!!!!!DO NOT DO THIS!!!!!!!\n",
        "#model.fit(x_train, y_train, epochs = 4, batch_size=512)\n",
        "#results = model.evaluate(x_test, y_test)\n",
        "#print(results)\n",
        "#first results value is loss, second value is accuracy\n",
        "#!!!!!!!DO NOT DO THIS!!!!!!!\n",
        "#in order to get proper results, need to train a TOTALLY NEW network"
      ],
      "metadata": {
        "id": "icMC6l6Papbo"
      },
      "execution_count": 29,
      "outputs": []
    },
    {
      "cell_type": "code",
      "source": [
        "#TOTALLY NEW Network, with only epochs changed from original setup (25 -> 4)\n",
        "modeltwo = models.Sequential()\n",
        "modeltwo.add(layers.Dense(16, activation='relu', input_shape=(10000,)))\n",
        "modeltwo.add(layers.Dense(16, activation='relu'))\n",
        "modeltwo.add(layers.Dense(1, activation='sigmoid'))\n",
        "modeltwo.compile(optimizer='rmsprop',\n",
        "              loss='binary_crossentropy',\n",
        "              metrics=['accuracy'])\n",
        "modeltwo.fit(x_train, y_train, epochs=4, batch_size=512)\n",
        "results = modeltwo.evaluate(x_test, y_test)\n",
        "print(results)\n",
        "#State-of the Art approaches should yield 95%+ Accuracy"
      ],
      "metadata": {
        "colab": {
          "base_uri": "https://localhost:8080/"
        },
        "id": "NxuBgIdibgzm",
        "outputId": "b8f6a56e-3d57-4091-bc8f-ec16ba54e9da"
      },
      "execution_count": 30,
      "outputs": [
        {
          "output_type": "stream",
          "name": "stdout",
          "text": [
            "Epoch 1/4\n",
            "49/49 [==============================] - 1s 12ms/step - loss: 0.4648 - accuracy: 0.8204\n",
            "Epoch 2/4\n",
            "49/49 [==============================] - 1s 12ms/step - loss: 0.2657 - accuracy: 0.9080\n",
            "Epoch 3/4\n",
            "49/49 [==============================] - 1s 13ms/step - loss: 0.2031 - accuracy: 0.9279\n",
            "Epoch 4/4\n",
            "49/49 [==============================] - 1s 13ms/step - loss: 0.1703 - accuracy: 0.9384\n",
            "782/782 [==============================] - 2s 3ms/step - loss: 0.3159 - accuracy: 0.8743\n",
            "[0.31585076451301575, 0.8743199706077576]\n"
          ]
        }
      ]
    },
    {
      "cell_type": "code",
      "source": [
        "#Generate likelihood of positive reviews:\n",
        "modeltwo.predict(x_test)\n",
        "#array value indicates %likelihood review is POSITIVE (why not negative?/how to get neg?)"
      ],
      "metadata": {
        "colab": {
          "base_uri": "https://localhost:8080/"
        },
        "id": "Ao-ewiC3b_tZ",
        "outputId": "cd1ee89b-7498-4544-98fa-66ab5022ab39"
      },
      "execution_count": 35,
      "outputs": [
        {
          "output_type": "execute_result",
          "data": {
            "text/plain": [
              "array([[0.17686665],\n",
              "       [0.99963856],\n",
              "       [0.80899554],\n",
              "       ...,\n",
              "       [0.08030719],\n",
              "       [0.05504198],\n",
              "       [0.47042286]], dtype=float32)"
            ]
          },
          "metadata": {},
          "execution_count": 35
        }
      ]
    },
    {
      "cell_type": "code",
      "source": [
        "model.predict(x_test)"
      ],
      "metadata": {
        "colab": {
          "base_uri": "https://localhost:8080/"
        },
        "id": "DWOJIOPZcSE3",
        "outputId": "b1bc1857-ae9f-4e45-d349-baac7d8b4fef"
      },
      "execution_count": 34,
      "outputs": [
        {
          "output_type": "execute_result",
          "data": {
            "text/plain": [
              "array([[0.24449244],\n",
              "       [0.9994561 ],\n",
              "       [0.9288494 ],\n",
              "       ...,\n",
              "       [0.17179596],\n",
              "       [0.11339546],\n",
              "       [0.6637346 ]], dtype=float32)"
            ]
          },
          "metadata": {},
          "execution_count": 34
        }
      ]
    },
    {
      "cell_type": "code",
      "source": [
        "The following experiments will help convince you that the architecture choices you’ve made are all fairly reasonable, although there’s still room for improvement:\n",
        " You used two hidden layers. Try using one or three hidden layers, and see how doing so affects validation and test accuracy.\n",
        " Try using layers with more hidden units or fewer hidden units: 32 units, 64 units, and so on.\n",
        " Try using the mse loss function instead of binary_crossentropy.\n",
        " Try using the tanh activation (an activation that was popular in the early days of\n",
        "neural networks) instead of relu.\n",
        "#May have done this with Udacity Example; redo w/ this one?\n",
        "Here’s what you should take away from this example:\n",
        " You usually need to do quite a bit of preprocessing on your raw data in order to be able to feed it—as tensors—into a neural network. Sequences of words can be encoded as binary vectors, but there are other encoding options, too.\n",
        " Stacks of Dense layers with relu activations can solve a wide range of problems (including sentiment classification), and you’ll likely use them frequently.\n",
        " In a binary classification problem (two output classes), your network should end with a Dense layer with one unit and a sigmoid activation: the output of your network should be a scalar between 0 and 1, encoding a probability.\n",
        " With such a scalar sigmoid output on a binary classification problem, the loss function you should use is binary_crossentropy.\n",
        " The rmsprop optimizer is generally a good enough choice, whatever your prob- lem. That’s one less thing for you to worry about.\n",
        " As they get better on their training data, neural networks eventually start over- fitting and end up obtaining increasingly worse results on data they’ve never seen before. Be sure to always monitor performance on data that is outside of the training set."
      ],
      "metadata": {
        "id": "zDjjm8x5dGCc"
      },
      "execution_count": null,
      "outputs": []
    },
    {
      "cell_type": "code",
      "source": [
        ""
      ],
      "metadata": {
        "id": "sJkvpyPCqi3k"
      },
      "execution_count": null,
      "outputs": []
    },
    {
      "cell_type": "code",
      "source": [
        "#EXAMPLE 2\n",
        "#Classifying newswires (Single-Label Multiclass classification, using Reuters dataset)\n",
        "\n",
        "#GETTING THE DATASET\n",
        "from keras.datasets import reuters\n",
        "(train_data, train_labels), (test_data, test_labels) = reuters.load_data(num_words = 10000)\n",
        "print ('Train data length:', len(train_data))\n",
        "print('Test data length:', len(test_data))\n"
      ],
      "metadata": {
        "colab": {
          "base_uri": "https://localhost:8080/"
        },
        "id": "1oArjdNEdTM2",
        "outputId": "05f4c8a1-b3b5-4fc3-9b55-d30018f636d1"
      },
      "execution_count": 1,
      "outputs": [
        {
          "output_type": "stream",
          "name": "stdout",
          "text": [
            "Train data length: 8982\n",
            "Test data length: 2246\n"
          ]
        }
      ]
    },
    {
      "cell_type": "code",
      "source": [
        "train_data[10]\n",
        "word_index = reuters.get_word_index()\n",
        "reverse_word_index = dict(\n",
        "    [(value, key) for (key, value) in word_index.items()])\n",
        "decoded_review = ' '.join(\n",
        "    [reverse_word_index.get(i - 3, '?') for i in test_data[10]])\n",
        "print(decoded_review)"
      ],
      "metadata": {
        "colab": {
          "base_uri": "https://localhost:8080/"
        },
        "id": "xFB-4O_vrLSR",
        "outputId": "8a83ae21-6b6a-47b5-b32e-ed000408fe0d"
      },
      "execution_count": 2,
      "outputs": [
        {
          "output_type": "stream",
          "name": "stdout",
          "text": [
            "? grain traders said they were still awaiting results of yesterday's u k intervention feed wheat tender for the home market the market sought to buy 340 000 tonnes more than double the remaining 150 000 tonnes available under the current tender however some of the tonnage included ? bids for supplies in the same stores since the tenders started last july ? 000 tonnes of british feed wheat have been sold back to the home market reuter 3\n"
          ]
        }
      ]
    },
    {
      "cell_type": "code",
      "source": [
        "#ENCODING DATA/PREPROCESSING\n",
        "import numpy as np\n",
        "\n",
        "def vectorize_sequences(sequences, dimension=10000):\n",
        "  results = np.zeros((len(sequences), dimension))\n",
        "  for i, sequence in enumerate(sequences):\n",
        "    results[i, sequence] = 1.0\n",
        "  return results\n",
        "\n",
        "x_train=vectorize_sequences(train_data)\n",
        "x_test=vectorize_sequences(test_data)\n",
        "\n",
        "#vectorizing labels using One-Hot Encoding/CATEGORICAL encoding (see above explanation)\n",
        "def to_one_hot(labels, dimension=46):\n",
        "  results=np.zeros((len(sequences), dimension))\n",
        "  for i, label in enumerate(labels):\n",
        "    results[i, label] = 1\n",
        "  return results\n",
        "\n",
        "  one_hot_train_labels = to_one_hot(train_labels)\n",
        "  one_hot_test_labels = to_one_hot(test_labels)\n"
      ],
      "metadata": {
        "id": "3hSKwwsVsCvw"
      },
      "execution_count": 9,
      "outputs": []
    },
    {
      "cell_type": "code",
      "source": [
        "#CREATE NETWORK/MODEL\n",
        "from keras import models, layers\n",
        "\n",
        "model = models.Sequential()\n",
        "model.add(layers.Dense(64, activation='relu', input_shape=(10000,)))\n",
        "model.add(layers.Dense(64, activation='relu'))#input shape automatic from last layer\n",
        "model.add(layers.Dense(46, activation='softmax'))\n",
        "#46 is last layer to represent possible categories data can be labeled\n",
        "#softmax activation for probability dist. over 46 categories (sum to 1)\n"
      ],
      "metadata": {
        "id": "TuMIqe0iuOJV"
      },
      "execution_count": 4,
      "outputs": []
    },
    {
      "cell_type": "code",
      "source": [
        "#COMPILATION: \n",
        "#Best Loss Fxn for Single-Category Multiclass Problem is categorical_crossentropy\n",
        "#CCE measures distance between probability dist. of network and TRUE dist\\\n",
        "#minimizing distance btwn 2 dists. trains network to output true label\n",
        "from keras import optimizers, metrics, losses\n",
        "model.compile(optimizer='rmsprop',\n",
        "              loss = 'categorical_crossentropy',\n",
        "              metrics=['accuracy'])"
      ],
      "metadata": {
        "id": "UZb9llEAvY0P"
      },
      "execution_count": 5,
      "outputs": []
    },
    {
      "cell_type": "code",
      "source": [
        "#VALIDATION\n",
        "#set apart 1k samples to use as validation\n",
        "#TROUBLESHOOTING: including alternate way here from textbook\n",
        "from keras.utils.np_utils import to_categorical\n",
        "one_hot_train_labels = to_categorical(train_labels)\n",
        "one_hot_test_labels = to_categorical(test_labels)\n",
        "#somehow this worked: Why do I need this code and not just one_hot_train??\n",
        "\n",
        "x_validation = x_train[:1000]\n",
        "partial_x_train = x_train[1000:]\n",
        "y_validation = one_hot_train_labels[:1000]\n",
        "partial_y_train = one_hot_train_labels[1000:]\n"
      ],
      "metadata": {
        "id": "3JCEvVhQwIrk"
      },
      "execution_count": 12,
      "outputs": []
    },
    {
      "cell_type": "code",
      "source": [
        "#TRAINING: \n",
        "history = model.fit(partial_x_train,\n",
        "                    partial_y_train,\n",
        "                    epochs=20,\n",
        "                    batch_size = 1024,\n",
        "                    validation_data=(x_validation, y_validation))\n"
      ],
      "metadata": {
        "colab": {
          "base_uri": "https://localhost:8080/"
        },
        "id": "XDoq448jwf23",
        "outputId": "b251308b-2943-42ee-e2ad-90bfa6b126ec"
      },
      "execution_count": 14,
      "outputs": [
        {
          "output_type": "stream",
          "name": "stdout",
          "text": [
            "Epoch 1/20\n",
            "8/8 [==============================] - 3s 56ms/step - loss: 3.1738 - accuracy: 0.4401 - val_loss: 2.3792 - val_accuracy: 0.5870\n",
            "Epoch 2/20\n",
            "8/8 [==============================] - 0s 34ms/step - loss: 1.9503 - accuracy: 0.6351 - val_loss: 1.6768 - val_accuracy: 0.6690\n",
            "Epoch 3/20\n",
            "8/8 [==============================] - 0s 27ms/step - loss: 1.3988 - accuracy: 0.7260 - val_loss: 1.3738 - val_accuracy: 0.7190\n",
            "Epoch 4/20\n",
            "8/8 [==============================] - 0s 27ms/step - loss: 1.1033 - accuracy: 0.7828 - val_loss: 1.2127 - val_accuracy: 0.7370\n",
            "Epoch 5/20\n",
            "8/8 [==============================] - 0s 27ms/step - loss: 0.9257 - accuracy: 0.8113 - val_loss: 1.1349 - val_accuracy: 0.7590\n",
            "Epoch 6/20\n",
            "8/8 [==============================] - 0s 27ms/step - loss: 0.7775 - accuracy: 0.8398 - val_loss: 1.0595 - val_accuracy: 0.7690\n",
            "Epoch 7/20\n",
            "8/8 [==============================] - 0s 27ms/step - loss: 0.6702 - accuracy: 0.8617 - val_loss: 1.0080 - val_accuracy: 0.7820\n",
            "Epoch 8/20\n",
            "8/8 [==============================] - 0s 27ms/step - loss: 0.5689 - accuracy: 0.8829 - val_loss: 0.9916 - val_accuracy: 0.7890\n",
            "Epoch 9/20\n",
            "8/8 [==============================] - 0s 28ms/step - loss: 0.4939 - accuracy: 0.8974 - val_loss: 0.9474 - val_accuracy: 0.8010\n",
            "Epoch 10/20\n",
            "8/8 [==============================] - 0s 27ms/step - loss: 0.4246 - accuracy: 0.9119 - val_loss: 0.9482 - val_accuracy: 0.7980\n",
            "Epoch 11/20\n",
            "8/8 [==============================] - 0s 29ms/step - loss: 0.3665 - accuracy: 0.9247 - val_loss: 0.9192 - val_accuracy: 0.8110\n",
            "Epoch 12/20\n",
            "8/8 [==============================] - 0s 27ms/step - loss: 0.3200 - accuracy: 0.9312 - val_loss: 0.9196 - val_accuracy: 0.8100\n",
            "Epoch 13/20\n",
            "8/8 [==============================] - 0s 28ms/step - loss: 0.2788 - accuracy: 0.9391 - val_loss: 0.9175 - val_accuracy: 0.8170\n",
            "Epoch 14/20\n",
            "8/8 [==============================] - 0s 28ms/step - loss: 0.2522 - accuracy: 0.9431 - val_loss: 0.9089 - val_accuracy: 0.8180\n",
            "Epoch 15/20\n",
            "8/8 [==============================] - 0s 28ms/step - loss: 0.2145 - accuracy: 0.9514 - val_loss: 0.9266 - val_accuracy: 0.8190\n",
            "Epoch 16/20\n",
            "8/8 [==============================] - 0s 28ms/step - loss: 0.1980 - accuracy: 0.9543 - val_loss: 0.9455 - val_accuracy: 0.8110\n",
            "Epoch 17/20\n",
            "8/8 [==============================] - 0s 28ms/step - loss: 0.1762 - accuracy: 0.9540 - val_loss: 0.9448 - val_accuracy: 0.8120\n",
            "Epoch 18/20\n",
            "8/8 [==============================] - 0s 27ms/step - loss: 0.1618 - accuracy: 0.9546 - val_loss: 1.0060 - val_accuracy: 0.8010\n",
            "Epoch 19/20\n",
            "8/8 [==============================] - 0s 28ms/step - loss: 0.1536 - accuracy: 0.9549 - val_loss: 1.0117 - val_accuracy: 0.8070\n",
            "Epoch 20/20\n",
            "8/8 [==============================] - 0s 26ms/step - loss: 0.1439 - accuracy: 0.9550 - val_loss: 1.0371 - val_accuracy: 0.8150\n"
          ]
        }
      ]
    },
    {
      "cell_type": "code",
      "source": [
        "#VISUALIZING DATA (Validation Loss):\n",
        "import matplotlib.pyplot as plt\n",
        "\n",
        "loss=history.history['loss']\n",
        "validation_loss = history.history['val_loss']\n",
        "epochs = range(1, len(loss) + 1)\n",
        "\n",
        "plt.plot(epochs, loss, 'bo', label = 'Training loss')\n",
        "plt.plot(epochs, validation_loss, 'b', label='Validation loss')\n",
        "plt.title('Training and validation loss')\n",
        "plt.xlabel('Epochs')\n",
        "plt.ylabel('Loss')\n",
        "plt.legend()\n",
        "plt.show()\n"
      ],
      "metadata": {
        "colab": {
          "base_uri": "https://localhost:8080/",
          "height": 295
        },
        "id": "v9k7fZAUxAhN",
        "outputId": "7f29ae85-59a1-4684-8a6e-2f32c0df6139"
      },
      "execution_count": 16,
      "outputs": [
        {
          "output_type": "display_data",
          "data": {
            "text/plain": [
              "<Figure size 432x288 with 1 Axes>"
            ],
            "image/png": "[encoded data removed]"
          },
          "metadata": {
            "needs_background": "light"
          }
        }
      ]
    },
    {
      "cell_type": "code",
      "source": [
        "#VISUALIZING DATA(Accuracy):\n",
        "#plt.clf() clears the figure\n",
        "acc = history.history['accuracy']\n",
        "val_acc = history.history['val_accuracy']\n",
        "epochs = range(1, len(loss)+ 1)\n",
        "\n",
        "plt.plot(epochs, acc, 'bo', label='Training Accuracy')\n",
        "plt.plot(epochs, val_acc, 'b', label='Validation Accuracy')\n",
        "plt.title('Training/Validation Accuracy of Model over Epoch Iterations')\n",
        "plt.xlabel('Epochs')\n",
        "plt.ylabel('Accuracy(%)')\n",
        "plt.legend()\n",
        "plt.show()"
      ],
      "metadata": {
        "colab": {
          "base_uri": "https://localhost:8080/",
          "height": 295
        },
        "id": "sF-Azvio0C0Z",
        "outputId": "2f0a7602-f448-44ec-91a2-1189e5974798"
      },
      "execution_count": 23,
      "outputs": [
        {
          "output_type": "display_data",
          "data": {
            "text/plain": [
              "<Figure size 432x288 with 1 Axes>"
            ],
            "image/png": "[encoded data removed]"
          },
          "metadata": {
            "needs_background": "light"
          }
        }
      ]
    },
    {
      "cell_type": "code",
      "source": [
        "#GETTING BETTER RESULTS:\n",
        "#Remake network with 9 epochs\n",
        "model = models.Sequential()\n",
        "model.add(layers.Dense(64, activation='relu', input_shape=(10000,)))\n",
        "model.add(layers.Dense(64, activation='relu'))\n",
        "model.add(layers.Dense(46, activation='softmax'))\n",
        "model.compile(optimizer='rmsprop',\n",
        "              loss='categorical_crossentropy',\n",
        "              metrics=['accuracy'])\n",
        "model.fit(partial_x_train,\n",
        "          partial_y_train,\n",
        "          epochs=9,\n",
        "          batch_size=512,\n",
        "          validation_data=(x_validation, y_validation))\n",
        "results = model.evaluate(x_test, one_hot_test_labels)\n",
        "print('results:', results)"
      ],
      "metadata": {
        "colab": {
          "base_uri": "https://localhost:8080/"
        },
        "id": "TwRDfakY0yhc",
        "outputId": "0e13aa16-395f-400d-cd4c-a98ad47e6031"
      },
      "execution_count": 27,
      "outputs": [
        {
          "output_type": "stream",
          "name": "stdout",
          "text": [
            "Epoch 1/9\n",
            "16/16 [==============================] - 1s 28ms/step - loss: 2.6717 - accuracy: 0.5068 - val_loss: 1.8004 - val_accuracy: 0.6300\n",
            "Epoch 2/9\n",
            "16/16 [==============================] - 0s 15ms/step - loss: 1.4541 - accuracy: 0.6991 - val_loss: 1.3279 - val_accuracy: 0.7160\n",
            "Epoch 3/9\n",
            "16/16 [==============================] - 0s 14ms/step - loss: 1.0686 - accuracy: 0.7717 - val_loss: 1.1475 - val_accuracy: 0.7610\n",
            "Epoch 4/9\n",
            "16/16 [==============================] - 0s 15ms/step - loss: 0.8393 - accuracy: 0.8227 - val_loss: 1.0492 - val_accuracy: 0.7780\n",
            "Epoch 5/9\n",
            "16/16 [==============================] - 0s 15ms/step - loss: 0.6748 - accuracy: 0.8554 - val_loss: 0.9756 - val_accuracy: 0.8030\n",
            "Epoch 6/9\n",
            "16/16 [==============================] - 0s 15ms/step - loss: 0.5374 - accuracy: 0.8875 - val_loss: 0.9376 - val_accuracy: 0.8050\n",
            "Epoch 7/9\n",
            "16/16 [==============================] - 0s 14ms/step - loss: 0.4368 - accuracy: 0.9092 - val_loss: 0.9079 - val_accuracy: 0.8160\n",
            "Epoch 8/9\n",
            "16/16 [==============================] - 0s 15ms/step - loss: 0.3515 - accuracy: 0.9268 - val_loss: 0.9185 - val_accuracy: 0.8090\n",
            "Epoch 9/9\n",
            "16/16 [==============================] - 0s 15ms/step - loss: 0.2942 - accuracy: 0.9364 - val_loss: 0.9253 - val_accuracy: 0.8090\n",
            "71/71 [==============================] - 0s 3ms/step - loss: 0.9836 - accuracy: 0.7836\n",
            "results: [0.9836409687995911, 0.7836152911186218]\n"
          ]
        }
      ]
    },
    {
      "cell_type": "code",
      "source": [
        "import copy\n",
        "test_labels_copy = copy.copy(test_labels)\n",
        "np.random.shuffle(test_labels_copy)\n",
        "hits_array = np.array(test_labels) == np.array(test_labels_copy)\n",
        "float(np.sum(hits_array)) / len(test_labels)\n"
      ],
      "metadata": {
        "colab": {
          "base_uri": "https://localhost:8080/"
        },
        "id": "YkaU_Jjd13qb",
        "outputId": "20a9c44e-75d8-4611-bf3b-4cb0de4db67e"
      },
      "execution_count": 28,
      "outputs": [
        {
          "output_type": "execute_result",
          "data": {
            "text/plain": [
              "0.18967052537845058"
            ]
          },
          "metadata": {},
          "execution_count": 28
        }
      ]
    },
    {
      "cell_type": "code",
      "source": [
        "predictions = model.predict(x_test)\n",
        "print('shape/vector length:', predictions[0].shape)\n",
        "print('sum of vector coefficients:', np.sum(predictions[0]))\n",
        "print('predicted class:', np.argmax(predictions[0]))"
      ],
      "metadata": {
        "colab": {
          "base_uri": "https://localhost:8080/"
        },
        "id": "8LSiQwsZ49Zj",
        "outputId": "52182f76-0df5-4f5c-c75f-a2f94ffe2297"
      },
      "execution_count": 32,
      "outputs": [
        {
          "output_type": "stream",
          "name": "stdout",
          "text": [
            "shape/vector length: (46,)\n",
            "sum of vector coefficients: 1.0\n",
            "predicted class: 3\n"
          ]
        }
      ]
    },
    {
      "cell_type": "code",
      "source": [
        "#Encoding Labels as INT Tensors\n",
        "#An Alternative way to encode labels (as opposed to OneHot Encoding???)\n",
        "y_train = np.array(train_labels)\n",
        "y_test = np.array(test_labels)\n",
        "\n",
        "#Use sparse_categorical_crossentropy with integer labels\n",
        "model.compile(optimizer = 'rmsprop',\n",
        "              loss = 'sparse_categorical_crossentropy',\n",
        "              metrics = ['acc'])\n",
        "#Same as Categorical_Crossentropy, but different Interface\n",
        "#Reduced Size Networks (ex Dense(4, ...)) compresses/loses information\n",
        "#into a space that is too low-dimensional to yield accurate results\n",
        "#Further experiments\n",
        "#Try using larger or smaller layers: 32 units, 128 units, and so on.\n",
        "#You used two hidden layers. Now try using a single hidden layer, or three hidden layers."
      ],
      "metadata": {
        "id": "Y6cxSkLR5_Uy"
      },
      "execution_count": 33,
      "outputs": []
    },
    {
      "cell_type": "code",
      "source": [
        "Wrapping up\n",
        "Here’s what you should take away from this example:\n",
        " If you’re trying to classify data points among N classes, your network should end with a Dense layer of size N.\n",
        " In a single-label, multiclass classification problem, your network should end with a softmax activation so that it will output a probability distribution over the N output classes.\n",
        " Categorical crossentropy is almost always the loss function you should use for such problems. It minimizes the distance between the probability distributions output by the network and the true distribution of the targets.\n",
        " There are two ways to handle labels in multiclass classification:\n",
        "– Encoding the labels via categorical encoding (also known as one-hot encod-\n",
        "ing) and using categorical_crossentropy as a loss function\n",
        "– Encoding the labels as integers and using the sparse_categorical_crossentropy\n",
        "loss function\n",
        " If you need to classify data into a large number of categories, you should avoid\n",
        "creating information bottlenecks in your network due to intermediate layers that are too small.\n",
        "3.5.8\n"
      ],
      "metadata": {
        "id": "MhKBTOOx7kss"
      },
      "execution_count": null,
      "outputs": []
    },
    {
      "cell_type": "code",
      "source": [
        ""
      ],
      "metadata": {
        "id": "7bSUklAf8S3U"
      },
      "execution_count": null,
      "outputs": []
    },
    {
      "cell_type": "code",
      "source": [
        "#EXAMPLE 3:\n",
        "#Predicting House Prices (LINEAR REGRESSION)(using Boston Housing Price dataset)\n",
        "from keras.datasets import boston_housing\n",
        "\n",
        "(train_data, train_targets), (test_data, test_targets) = boston_housing.load_data()\n",
        "\n",
        "print('traindatashape',train_data.shape)\n",
        "print('testdatashape', test_data.shape)\n",
        "\n"
      ],
      "metadata": {
        "colab": {
          "base_uri": "https://localhost:8080/"
        },
        "id": "9F1dJ6dF8VLL",
        "outputId": "9ad88841-18c7-4393-e477-4e6138789e6b"
      },
      "execution_count": 1,
      "outputs": [
        {
          "output_type": "stream",
          "name": "stdout",
          "text": [
            "traindatashape (404, 13)\n",
            "testdatashape (102, 13)\n"
          ]
        }
      ]
    },
    {
      "cell_type": "code",
      "source": [
        "#DATA PREPROCESSING/PREPARATION:\n",
        "#FEATURE-WISE NORMALIZATION - for each input data feature, subtract mean of input,\n",
        "#then divide by STDEV so each feature is centered around 0 w/ unit STDEV\n",
        "mean = train_data.mean(axis=0)\n",
        "train_data -= mean\n",
        "std = train_data.std(axis=0)\n",
        "train_data /= std\n",
        "\n",
        "test_data -= mean\n",
        "test_data /= std\n",
        "\n"
      ],
      "metadata": {
        "id": "i0_ZyapF9Y9A"
      },
      "execution_count": 2,
      "outputs": []
    },
    {
      "cell_type": "code",
      "source": [
        "#BUILDING THE MODEL/NETWORK:\n",
        "from keras import models, layers\n",
        "\n",
        "def build_model():\n",
        "  model = models.Sequential()\n",
        "  model.add(layers.Dense(64, activation = 'relu', input_shape=(train_data.shape[1],)))\n",
        "  model.add(layers.Dense(64, activation='relu'))\n",
        "  model.add(layers.Dense(1))\n",
        "  model.compile(optimizer='rmsprop', loss='mse', metrics=['mae'], run_eagerly=True)\n",
        "  return model\n",
        "#model ends w/ single unit, NO activation (LINEAR layer) b/c constrains range\n",
        "#typical setup for scalar regression\n",
        "#IN COMPILE: mse=Mean Squared Error, mae = Mean Absolute Error (.5 = +/-500$ average error)\n"
      ],
      "metadata": {
        "id": "Ziyw-hxY-E_g"
      },
      "execution_count": 3,
      "outputs": []
    },
    {
      "cell_type": "code",
      "source": [
        "#VALIDATION USING K-FOLD (due to HIGH VARIANCE w/ regard to validation split)\n",
        "#since validation set would be very small, scores change depending on sampled data\n",
        "#Instead, K-FOLD CROSS-VALIDATION: split data into K partitions(typically k=4 or 5)\n",
        "#instantiate K identical models, train on K-1 partitions while evaluating on remaining partition (test partition)\n",
        "#Validation Score is AVG of K validation scores obtained.\n",
        "import numpy as np\n",
        "import tensorflow as tf\n",
        "\n",
        "k = 4\n",
        "num_val_samples = len(train_data) \n",
        "num_epochs = 100\n",
        "all_scores = []\n",
        "\n",
        "for i in range(k):\n",
        "  print('processing fold #', i)\n",
        "  val_data = train_data[i * num_val_samples: (i + 1) * num_val_samples]\n",
        "  val_targets = train_targets[i * num_val_samples: (i + 1) * num_val_samples]\n",
        "\n",
        "  partial_train_data = np.concatenate(\n",
        "      [train_data[:i * num_val_samples],\n",
        "       train_data[(i + 1) * num_val_samples:]],\n",
        "       axis=0)\n",
        "  partial_train_targets = np.concatenate(\n",
        "      [train_targets[:i * num_val_samples],\n",
        "       train_targets[(i + 1) * num_val_samples:]],\n",
        "       axis=0)\n",
        "  \n",
        "  model = build_model()\n",
        "  model.fit(partial_train_data, partial_train_targets, epochs=num_epochs,\n",
        "            batch_size = 1, verbose = 0)\n",
        "  tf.config.run_functions_eagerly(True)\n",
        "  val_mse, val_mae = model.evaluate(val_data, val_targets, verbose=0)\n",
        "  all_scores.append(val_mae)\n",
        "  "
      ],
      "metadata": {
        "colab": {
          "base_uri": "https://localhost:8080/",
          "height": 562
        },
        "id": "HN5SzEre-zDH",
        "outputId": "8b626a15-d40e-4862-deda-3e748304b14c"
      },
      "execution_count": 4,
      "outputs": [
        {
          "output_type": "stream",
          "name": "stdout",
          "text": [
            "processing fold # 0\n"
          ]
        },
        {
          "output_type": "error",
          "ename": "ValueError",
          "evalue": "ignored",
          "traceback": [
            "\u001b[0;31m---------------------------------------------------------------------------\u001b[0m",
            "\u001b[0;31mValueError\u001b[0m                                Traceback (most recent call last)",
            "\u001b[0;32m<ipython-input-4-68dc84709b49>\u001b[0m in \u001b[0;36m<module>\u001b[0;34m()\u001b[0m\n\u001b[1;32m     28\u001b[0m   \u001b[0mmodel\u001b[0m \u001b[0;34m=\u001b[0m \u001b[0mbuild_model\u001b[0m\u001b[0;34m(\u001b[0m\u001b[0;34m)\u001b[0m\u001b[0;34m\u001b[0m\u001b[0;34m\u001b[0m\u001b[0m\n\u001b[1;32m     29\u001b[0m   model.fit(partial_train_data, partial_train_targets, epochs=num_epochs,\n\u001b[0;32m---> 30\u001b[0;31m             batch_size = 1, verbose = 0)\n\u001b[0m\u001b[1;32m     31\u001b[0m   \u001b[0mtf\u001b[0m\u001b[0;34m.\u001b[0m\u001b[0mconfig\u001b[0m\u001b[0;34m.\u001b[0m\u001b[0mrun_functions_eagerly\u001b[0m\u001b[0;34m(\u001b[0m\u001b[0;32mTrue\u001b[0m\u001b[0;34m)\u001b[0m\u001b[0;34m\u001b[0m\u001b[0;34m\u001b[0m\u001b[0m\n\u001b[1;32m     32\u001b[0m   \u001b[0mval_mse\u001b[0m\u001b[0;34m,\u001b[0m \u001b[0mval_mae\u001b[0m \u001b[0;34m=\u001b[0m \u001b[0mmodel\u001b[0m\u001b[0;34m.\u001b[0m\u001b[0mevaluate\u001b[0m\u001b[0;34m(\u001b[0m\u001b[0mval_data\u001b[0m\u001b[0;34m,\u001b[0m \u001b[0mval_targets\u001b[0m\u001b[0;34m,\u001b[0m \u001b[0mverbose\u001b[0m\u001b[0;34m=\u001b[0m\u001b[0;36m0\u001b[0m\u001b[0;34m)\u001b[0m\u001b[0;34m\u001b[0m\u001b[0;34m\u001b[0m\u001b[0m\n",
            "\u001b[0;32m/usr/local/lib/python3.7/dist-packages/keras/utils/traceback_utils.py\u001b[0m in \u001b[0;36merror_handler\u001b[0;34m(*args, **kwargs)\u001b[0m\n\u001b[1;32m     65\u001b[0m     \u001b[0;32mexcept\u001b[0m \u001b[0mException\u001b[0m \u001b[0;32mas\u001b[0m \u001b[0me\u001b[0m\u001b[0;34m:\u001b[0m  \u001b[0;31m# pylint: disable=broad-except\u001b[0m\u001b[0;34m\u001b[0m\u001b[0;34m\u001b[0m\u001b[0m\n\u001b[1;32m     66\u001b[0m       \u001b[0mfiltered_tb\u001b[0m \u001b[0;34m=\u001b[0m \u001b[0m_process_traceback_frames\u001b[0m\u001b[0;34m(\u001b[0m\u001b[0me\u001b[0m\u001b[0;34m.\u001b[0m\u001b[0m__traceback__\u001b[0m\u001b[0;34m)\u001b[0m\u001b[0;34m\u001b[0m\u001b[0;34m\u001b[0m\u001b[0m\n\u001b[0;32m---> 67\u001b[0;31m       \u001b[0;32mraise\u001b[0m \u001b[0me\u001b[0m\u001b[0;34m.\u001b[0m\u001b[0mwith_traceback\u001b[0m\u001b[0;34m(\u001b[0m\u001b[0mfiltered_tb\u001b[0m\u001b[0;34m)\u001b[0m \u001b[0;32mfrom\u001b[0m \u001b[0;32mNone\u001b[0m\u001b[0;34m\u001b[0m\u001b[0;34m\u001b[0m\u001b[0m\n\u001b[0m\u001b[1;32m     68\u001b[0m     \u001b[0;32mfinally\u001b[0m\u001b[0;34m:\u001b[0m\u001b[0;34m\u001b[0m\u001b[0;34m\u001b[0m\u001b[0m\n\u001b[1;32m     69\u001b[0m       \u001b[0;32mdel\u001b[0m \u001b[0mfiltered_tb\u001b[0m\u001b[0;34m\u001b[0m\u001b[0;34m\u001b[0m\u001b[0m\n",
            "\u001b[0;32m/usr/local/lib/python3.7/dist-packages/keras/engine/training.py\u001b[0m in \u001b[0;36mfit\u001b[0;34m(self, x, y, batch_size, epochs, verbose, callbacks, validation_split, validation_data, shuffle, class_weight, sample_weight, initial_epoch, steps_per_epoch, validation_steps, validation_batch_size, validation_freq, max_queue_size, workers, use_multiprocessing)\u001b[0m\n\u001b[1;32m   1393\u001b[0m         \u001b[0mlogs\u001b[0m \u001b[0;34m=\u001b[0m \u001b[0mtf_utils\u001b[0m\u001b[0;34m.\u001b[0m\u001b[0msync_to_numpy_or_python_type\u001b[0m\u001b[0;34m(\u001b[0m\u001b[0mlogs\u001b[0m\u001b[0;34m)\u001b[0m\u001b[0;34m\u001b[0m\u001b[0;34m\u001b[0m\u001b[0m\n\u001b[1;32m   1394\u001b[0m         \u001b[0;32mif\u001b[0m \u001b[0mlogs\u001b[0m \u001b[0;32mis\u001b[0m \u001b[0;32mNone\u001b[0m\u001b[0;34m:\u001b[0m\u001b[0;34m\u001b[0m\u001b[0;34m\u001b[0m\u001b[0m\n\u001b[0;32m-> 1395\u001b[0;31m           raise ValueError('Unexpected result of `train_function` '\n\u001b[0m\u001b[1;32m   1396\u001b[0m                            \u001b[0;34m'(Empty logs). Please use '\u001b[0m\u001b[0;34m\u001b[0m\u001b[0;34m\u001b[0m\u001b[0m\n\u001b[1;32m   1397\u001b[0m                            \u001b[0;34m'`Model.compile(..., run_eagerly=True)`, or '\u001b[0m\u001b[0;34m\u001b[0m\u001b[0;34m\u001b[0m\u001b[0m\n",
            "\u001b[0;31mValueError\u001b[0m: Unexpected result of `train_function` (Empty logs). Please use `Model.compile(..., run_eagerly=True)`, or `tf.config.run_functions_eagerly(True)` for more information of where went wrong, or file a issue/bug to `tf.keras`."
          ]
        }
      ]
    },
    {
      "cell_type": "code",
      "source": [
        "import numpy as np\n",
        "k=4\n",
        "num_val_samples = len(train_data)\n",
        "num_epochs = 100\n",
        "all_scores = []\n",
        "\n",
        "for i in range(k):\n",
        "  print('processing fold #', i)\n",
        "  val_data = train_data[i * num_val_samples: (i + 1) * num_val_samples] \n",
        "  val_targets = train_targets[i * num_val_samples: (i + 1) * num_val_samples]\n",
        "\n",
        "  partial_train_data = np.concatenate( [train_data[:i * num_val_samples],\n",
        "    train_data[(i + 1) * num_val_samples:]], axis=0)\n",
        "\n",
        "  partial_train_targets = np.concatenate( [train_targets[:i * num_val_samples],\n",
        "    train_targets[(i + 1) * num_val_samples:]], axis=0)\n",
        "\n",
        "  model = build_model()\n",
        "  model.fit(partial_train_data, partial_train_targets,\n",
        "            epochs=num_epochs, batch_size=1, verbose=0)\n",
        "  val_mse, val_mae = model.evaluate(val_data, val_targets, verbose=0)\n",
        "  all_scores.append(val_mae)"
      ],
      "metadata": {
        "colab": {
          "base_uri": "https://localhost:8080/",
          "height": 545
        },
        "id": "QbNyEXqgDGaF",
        "outputId": "dd2cf00c-4dba-462b-c9bd-b1837c7f617c"
      },
      "execution_count": 5,
      "outputs": [
        {
          "output_type": "stream",
          "name": "stdout",
          "text": [
            "processing fold # 0\n"
          ]
        },
        {
          "output_type": "error",
          "ename": "ValueError",
          "evalue": "ignored",
          "traceback": [
            "\u001b[0;31m---------------------------------------------------------------------------\u001b[0m",
            "\u001b[0;31mValueError\u001b[0m                                Traceback (most recent call last)",
            "\u001b[0;32m<ipython-input-5-2ab35f2926dd>\u001b[0m in \u001b[0;36m<module>\u001b[0;34m()\u001b[0m\n\u001b[1;32m     18\u001b[0m   \u001b[0mmodel\u001b[0m \u001b[0;34m=\u001b[0m \u001b[0mbuild_model\u001b[0m\u001b[0;34m(\u001b[0m\u001b[0;34m)\u001b[0m\u001b[0;34m\u001b[0m\u001b[0;34m\u001b[0m\u001b[0m\n\u001b[1;32m     19\u001b[0m   model.fit(partial_train_data, partial_train_targets,\n\u001b[0;32m---> 20\u001b[0;31m             epochs=num_epochs, batch_size=1, verbose=0)\n\u001b[0m\u001b[1;32m     21\u001b[0m   \u001b[0mval_mse\u001b[0m\u001b[0;34m,\u001b[0m \u001b[0mval_mae\u001b[0m \u001b[0;34m=\u001b[0m \u001b[0mmodel\u001b[0m\u001b[0;34m.\u001b[0m\u001b[0mevaluate\u001b[0m\u001b[0;34m(\u001b[0m\u001b[0mval_data\u001b[0m\u001b[0;34m,\u001b[0m \u001b[0mval_targets\u001b[0m\u001b[0;34m,\u001b[0m \u001b[0mverbose\u001b[0m\u001b[0;34m=\u001b[0m\u001b[0;36m0\u001b[0m\u001b[0;34m)\u001b[0m\u001b[0;34m\u001b[0m\u001b[0;34m\u001b[0m\u001b[0m\n\u001b[1;32m     22\u001b[0m   \u001b[0mall_scores\u001b[0m\u001b[0;34m.\u001b[0m\u001b[0mappend\u001b[0m\u001b[0;34m(\u001b[0m\u001b[0mval_mae\u001b[0m\u001b[0;34m)\u001b[0m\u001b[0;34m\u001b[0m\u001b[0;34m\u001b[0m\u001b[0m\n",
            "\u001b[0;32m/usr/local/lib/python3.7/dist-packages/keras/utils/traceback_utils.py\u001b[0m in \u001b[0;36merror_handler\u001b[0;34m(*args, **kwargs)\u001b[0m\n\u001b[1;32m     65\u001b[0m     \u001b[0;32mexcept\u001b[0m \u001b[0mException\u001b[0m \u001b[0;32mas\u001b[0m \u001b[0me\u001b[0m\u001b[0;34m:\u001b[0m  \u001b[0;31m# pylint: disable=broad-except\u001b[0m\u001b[0;34m\u001b[0m\u001b[0;34m\u001b[0m\u001b[0m\n\u001b[1;32m     66\u001b[0m       \u001b[0mfiltered_tb\u001b[0m \u001b[0;34m=\u001b[0m \u001b[0m_process_traceback_frames\u001b[0m\u001b[0;34m(\u001b[0m\u001b[0me\u001b[0m\u001b[0;34m.\u001b[0m\u001b[0m__traceback__\u001b[0m\u001b[0;34m)\u001b[0m\u001b[0;34m\u001b[0m\u001b[0;34m\u001b[0m\u001b[0m\n\u001b[0;32m---> 67\u001b[0;31m       \u001b[0;32mraise\u001b[0m \u001b[0me\u001b[0m\u001b[0;34m.\u001b[0m\u001b[0mwith_traceback\u001b[0m\u001b[0;34m(\u001b[0m\u001b[0mfiltered_tb\u001b[0m\u001b[0;34m)\u001b[0m \u001b[0;32mfrom\u001b[0m \u001b[0;32mNone\u001b[0m\u001b[0;34m\u001b[0m\u001b[0;34m\u001b[0m\u001b[0m\n\u001b[0m\u001b[1;32m     68\u001b[0m     \u001b[0;32mfinally\u001b[0m\u001b[0;34m:\u001b[0m\u001b[0;34m\u001b[0m\u001b[0;34m\u001b[0m\u001b[0m\n\u001b[1;32m     69\u001b[0m       \u001b[0;32mdel\u001b[0m \u001b[0mfiltered_tb\u001b[0m\u001b[0;34m\u001b[0m\u001b[0;34m\u001b[0m\u001b[0m\n",
            "\u001b[0;32m/usr/local/lib/python3.7/dist-packages/keras/engine/training.py\u001b[0m in \u001b[0;36mfit\u001b[0;34m(self, x, y, batch_size, epochs, verbose, callbacks, validation_split, validation_data, shuffle, class_weight, sample_weight, initial_epoch, steps_per_epoch, validation_steps, validation_batch_size, validation_freq, max_queue_size, workers, use_multiprocessing)\u001b[0m\n\u001b[1;32m   1393\u001b[0m         \u001b[0mlogs\u001b[0m \u001b[0;34m=\u001b[0m \u001b[0mtf_utils\u001b[0m\u001b[0;34m.\u001b[0m\u001b[0msync_to_numpy_or_python_type\u001b[0m\u001b[0;34m(\u001b[0m\u001b[0mlogs\u001b[0m\u001b[0;34m)\u001b[0m\u001b[0;34m\u001b[0m\u001b[0;34m\u001b[0m\u001b[0m\n\u001b[1;32m   1394\u001b[0m         \u001b[0;32mif\u001b[0m \u001b[0mlogs\u001b[0m \u001b[0;32mis\u001b[0m \u001b[0;32mNone\u001b[0m\u001b[0;34m:\u001b[0m\u001b[0;34m\u001b[0m\u001b[0;34m\u001b[0m\u001b[0m\n\u001b[0;32m-> 1395\u001b[0;31m           raise ValueError('Unexpected result of `train_function` '\n\u001b[0m\u001b[1;32m   1396\u001b[0m                            \u001b[0;34m'(Empty logs). Please use '\u001b[0m\u001b[0;34m\u001b[0m\u001b[0;34m\u001b[0m\u001b[0m\n\u001b[1;32m   1397\u001b[0m                            \u001b[0;34m'`Model.compile(..., run_eagerly=True)`, or '\u001b[0m\u001b[0;34m\u001b[0m\u001b[0;34m\u001b[0m\u001b[0m\n",
            "\u001b[0;31mValueError\u001b[0m: Unexpected result of `train_function` (Empty logs). Please use `Model.compile(..., run_eagerly=True)`, or `tf.config.run_functions_eagerly(True)` for more information of where went wrong, or file a issue/bug to `tf.keras`."
          ]
        }
      ]
    },
    {
      "cell_type": "code",
      "source": [
        "#stopped on pg 89 b/c of EMPTY LOGS error"
      ],
      "metadata": {
        "id": "ID4wZdgxIel3"
      },
      "execution_count": null,
      "outputs": []
    },
    {
      "cell_type": "code",
      "source": [
        "for i in range(k):\n",
        "print('processing fold #', i)\n",
        "val_data = train_data[i * num_val_samples: (i + 1) * num_val_samples] val_targets = train_targets[i * num_val_samples: (i + 1) * num_val_samples]\n",
        "partial_train_data = np.concatenate( [train_data[:i * num_val_samples],\n",
        "train_data[(i + 1) * num_val_samples:]], axis=0)\n",
        "partial_train_targets = np.concatenate( [train_targets[:i * num_val_samples],\n",
        "train_targets[(i + 1) * num_val_samples:]], axis=0)\n",
        "model = build_model()\n",
        "model.fit(partial_train_data, partial_train_targets,\n",
        "Builds the Keras model (already compiled)\n",
        "Trains the model (in silent mode, verbose = 0)\n",
        "  epochs=num_epochs, batch_size=1, verbose=0)\n",
        "val_mse, val_mae = model.evaluate(val_data, val_targets, verbose=0)\n",
        "all_scores.append(val_mae)\n"
      ],
      "metadata": {
        "id": "pxsIZRZCIsFd"
      },
      "execution_count": null,
      "outputs": []
    },
    {
      "cell_type": "code",
      "source": [
        "num_epochs = 500 all_mae_histories = [] for i in range(k):\n",
        "Prepares the validation data: data from partition #k\n",
        " print('processing fold #', i)\n",
        "val_data = train_data[i * num_val_samples: (i + 1) * num_val_samples] val_targets = train_targets[i * num_val_samples: (i + 1) * num_val_samples]\n",
        "partial_train_data = np.concatenate( [train_data[:i * num_val_samples],\n",
        "train_data[(i + 1) * num_val_samples:]], axis=0)\n",
        "Prepares the training data: data from all other partitions"
      ],
      "metadata": {
        "id": "WTZYgnxuIvDA"
      },
      "execution_count": null,
      "outputs": []
    },
    {
      "cell_type": "code",
      "source": [
        "average_mae_history = [\n",
        "    np.mean([x[i] for x in all_mae_histories]) for i in range(num_epochs)]\n",
        "\n",
        "import matplotlib.pyplot as plt\n",
        "plt.plot(range(1, len(average_mae_history) + 1), average_mae_history)\n",
        "plt.xlabel('Epochs')\n",
        "plt.ylabel('Validation MAE')\n",
        "plt.show()"
      ],
      "metadata": {
        "id": "htINM6znIySw"
      },
      "execution_count": null,
      "outputs": []
    },
    {
      "cell_type": "code",
      "source": [
        "def smooth_curve(points, factor=0.9):\n",
        "  smoothed_points = []\n",
        "  for point in points:\n",
        "    if smoothed_points:\n",
        "      previous = smoothed_points[-1]\n",
        "      smoothed_points.append(previous * factor + point * (1 - factor))\n",
        "    else:\n",
        "      smoothed_points.append(point)\n",
        "  return smoothed_points\n",
        "smooth_mae_history = smooth_curve(average_mae_history[10:])\n",
        "plt.plot(range(1, len(smooth_mae_history) + 1), smooth_mae_history)\n",
        "plt.xlabel('Epochs')\n",
        "plt.ylabel('Validation MAE')\n",
        "plt.show()\n"
      ],
      "metadata": {
        "id": "gpMZj2Q2I6d6"
      },
      "execution_count": null,
      "outputs": []
    },
    {
      "cell_type": "code",
      "source": [
        "model = build_model()\n",
        "model.fit(train_data, train_targets,\n",
        "Gets a fresh, compiled model\n",
        "Trains it on the entirety of the data\n",
        "epochs=80, batch_size=16, verbose=0)\n",
        "test_mse_score, test_mae_score = model.evaluate(test_data, test_targets)"
      ],
      "metadata": {
        "id": "o2EdQAUWI9Q0"
      },
      "execution_count": null,
      "outputs": []
    },
    {
      "cell_type": "code",
      "source": [
        "3.6.5 Wrapping up\n",
        "Here’s what you should take away from this example:\n",
        " Regression is done using different loss functions than what we used for classifi- cation. Mean squared error (MSE) is a loss function commonly used for regres- sion.\n",
        " Similarly, evaluation metrics to be used for regression differ from those used for classification; naturally, the concept of accuracy doesn’t apply for regression. A common regression metric is mean absolute error (MAE).\n",
        " When features in the input data have values in different ranges, each feature should be scaled independently as a preprocessing step.\n",
        " When there is little data available, using K-fold validation is a great way to reli- ably evaluate a model.\n",
        " When little training data is available, it’s preferable to use a small network with few hidden layers (typically only one or two), in order to avoid severe overfitting."
      ],
      "metadata": {
        "id": "5CDeCqaVI-cJ"
      },
      "execution_count": null,
      "outputs": []
    },
    {
      "cell_type": "markdown",
      "source": [
        ""
      ],
      "metadata": {
        "id": "f2aaf4TR5jnm"
      }
    }
  ]
}